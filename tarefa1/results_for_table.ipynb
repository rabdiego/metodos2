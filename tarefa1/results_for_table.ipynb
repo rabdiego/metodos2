{
 "cells": [
  {
   "cell_type": "markdown",
   "metadata": {},
   "source": [
    "# Importing libraries"
   ]
  },
  {
   "cell_type": "code",
   "execution_count": 48,
   "metadata": {},
   "outputs": [],
   "source": [
    "import math"
   ]
  },
  {
   "cell_type": "markdown",
   "metadata": {},
   "source": [
    "# Main function"
   ]
  },
  {
   "cell_type": "markdown",
   "metadata": {},
   "source": [
    "$\\sqrt{e^{3x} + 4x^2}$"
   ]
  },
  {
   "cell_type": "code",
   "execution_count": 49,
   "metadata": {},
   "outputs": [],
   "source": [
    "def f(x):\n",
    "    return x**2"
   ]
  },
  {
   "cell_type": "markdown",
   "metadata": {},
   "source": [
    "# Relative error"
   ]
  },
  {
   "cell_type": "code",
   "execution_count": 50,
   "metadata": {},
   "outputs": [],
   "source": [
    "def rel_err(a, b):\n",
    "    return (a-b)/a"
   ]
  },
  {
   "cell_type": "markdown",
   "metadata": {},
   "source": [
    "# Taylor series"
   ]
  },
  {
   "cell_type": "markdown",
   "metadata": {},
   "source": [
    "## Second derivative function"
   ]
  },
  {
   "cell_type": "markdown",
   "metadata": {},
   "source": [
    "$f_i = \\frac{f_{i+1} + f_{i-1} + 5f_{i+2} + 5f_{i-2} - f_{i+3} - f_{i-3} - 10f_i}{12 (\\Delta x)^2}$"
   ]
  },
  {
   "cell_type": "code",
   "execution_count": 51,
   "metadata": {},
   "outputs": [],
   "source": [
    "def taylor_second_derivative(x, dx):\n",
    "    return (f(x+dx) + f(x-dx) + 5*f(x+2*dx) + 5*f(x-2*dx) - f(x+3*dx) - f(x-3*dx) - 10*f(x))/(12 * dx**2)"
   ]
  },
  {
   "cell_type": "markdown",
   "metadata": {},
   "source": [
    "## Table"
   ]
  },
  {
   "cell_type": "code",
   "execution_count": 52,
   "metadata": {},
   "outputs": [
    {
     "name": "stdout",
     "output_type": "stream",
     "text": [
      "delta = 0.5 | f'' = 2.0 | err = 1.0\n",
      "delta = 0.25 | f'' = 2.0 | err = 0.0\n"
     ]
    }
   ],
   "source": [
    "f_old = 0\n",
    "err = 1\n",
    "ratio = 0.5\n",
    "\n",
    "while err >= 1e-5:\n",
    "    f_new = taylor_second_derivative(2, ratio)\n",
    "    err = rel_err(f_new, f_old)\n",
    "    print(f'delta = {ratio} | f\\'\\' = {f_new} | err = {err}')\n",
    "    ratio /= 2\n",
    "    f_old = f_new"
   ]
  },
  {
   "cell_type": "markdown",
   "metadata": {},
   "source": [
    "# Newton interpolation"
   ]
  },
  {
   "cell_type": "code",
   "execution_count": 53,
   "metadata": {},
   "outputs": [],
   "source": [
    "def newton_second_derivative(x, d):\n",
    "    return (7*f(x + 2*d) - 40*f(x + d) + 102*f(x) - 112*f(x-d) + 43*f(x-2*d))/(24*(d**2))"
   ]
  },
  {
   "cell_type": "markdown",
   "metadata": {},
   "source": [
    "## Table"
   ]
  },
  {
   "cell_type": "code",
   "execution_count": 54,
   "metadata": {},
   "outputs": [
    {
     "name": "stdout",
     "output_type": "stream",
     "text": [
      "0.5 & 2.000000 & 1.000000 \\\\\n",
      "0.25 & 2.000000 & 0.000000 \\\\\n"
     ]
    }
   ],
   "source": [
    "f_old = 0\n",
    "err = 1\n",
    "ratio = 0.5\n",
    "\n",
    "while abs(err) >= 1e-5:\n",
    "    f_new = newton_second_derivative(2, ratio)\n",
    "    err = rel_err(f_new, f_old)\n",
    "    print(f'{ratio} & {f_new:.6f} & {err:.6f} \\\\\\\\')\n",
    "    ratio /= 2\n",
    "    f_old = f_new"
   ]
  },
  {
   "cell_type": "code",
   "execution_count": 55,
   "metadata": {},
   "outputs": [
    {
     "name": "stdout",
     "output_type": "stream",
     "text": [
      "0.0\n"
     ]
    }
   ],
   "source": [
    "print(err)"
   ]
  },
  {
   "cell_type": "code",
   "execution_count": null,
   "metadata": {},
   "outputs": [],
   "source": []
  }
 ],
 "metadata": {
  "kernelspec": {
   "display_name": "Python 3",
   "language": "python",
   "name": "python3"
  },
  "language_info": {
   "codemirror_mode": {
    "name": "ipython",
    "version": 3
   },
   "file_extension": ".py",
   "mimetype": "text/x-python",
   "name": "python",
   "nbconvert_exporter": "python",
   "pygments_lexer": "ipython3",
   "version": "3.10.12"
  }
 },
 "nbformat": 4,
 "nbformat_minor": 2
}
